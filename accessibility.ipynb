{
 "cells": [
  {
   "cell_type": "code",
   "execution_count": 1,
   "id": "8e3d3914",
   "metadata": {},
   "outputs": [],
   "source": [
    "import numpy as np\n",
    "import os\n",
    "import glob\n",
    "import shutil\n",
    "import math\n",
    "import matplotlib.pyplot as plt"
   ]
  },
  {
   "cell_type": "code",
   "execution_count": 54,
   "id": "8981da82",
   "metadata": {},
   "outputs": [],
   "source": [
    "pic_name = \"Mo_210\"\n",
    "dirname = \"100_2_1_0_gb\""
   ]
  },
  {
   "cell_type": "code",
   "execution_count": 55,
   "id": "51319c03",
   "metadata": {},
   "outputs": [],
   "source": [
    "dy = np.loadtxt(f\"{dirname}/results\")[:,3]\n",
    "dz = np.loadtxt(f\"{dirname}/results\")[:,4]\n",
    "energy = np.loadtxt(f\"{dirname}/results\")[:,5]"
   ]
  },
  {
   "cell_type": "code",
   "execution_count": null,
   "id": "5f0bb083",
   "metadata": {},
   "outputs": [],
   "source": [
    "plt.figure(figsize = (max(dy) - min(dy),max(dz) - min(dz)))\n",
    "pcm = plt.scatter(dy,dz, c = energy,cmap = 'hot',s=100)\n",
    "plt.colorbar(pcm,cmap = 'hot')\n",
    "# plt.scatter(dy[energy.argmin()],dz[energy.argmin()],s=200,c=\"green\")\n",
    "plt.ylabel('dz',fontsize = 20)\n",
    "plt.xlabel('dy',fontsize = 20)\n",
    "# plt.savefig(\"811.jpeg\")"
   ]
  },
  {
   "cell_type": "code",
   "execution_count": 41,
   "id": "8e4caae0",
   "metadata": {},
   "outputs": [],
   "source": []
  },
  {
   "cell_type": "code",
   "execution_count": 56,
   "id": "6c244aee",
   "metadata": {},
   "outputs": [
    {
     "data": {
      "image/png": "[encoded data removed]",
      "text/plain": [
       "<Figure size 432x288 with 1 Axes>"
      ]
     },
     "metadata": {
      "needs_background": "light"
     },
     "output_type": "display_data"
    }
   ],
   "source": [
    "fig = plt.figure()\n",
    "ax = fig.add_subplot(1,1,1)\n",
    "edges = range(round(energy.min()),round(energy.max()),1)\n",
    "n, bins, patches = ax.hist(energy, bins=edges)\n",
    "most_stable_ratio = (n[0]+n[1])/n.sum()*100\n",
    "ax.set_yticks(np.arange(0, 21, step=10))\n",
    "ax.set_title(f\"{most_stable_ratio} %\")\n",
    "ax.set_xlabel('gbenergy [mJ/$m^2$]')\n",
    "ax.set_ylabel(\"num\")\n",
    "fig.savefig(f\"{pic_name}.jpeg\")"
   ]
  },
  {
   "cell_type": "code",
   "execution_count": null,
   "id": "967dfc81",
   "metadata": {},
   "outputs": [],
   "source": [
    "pic_name_accessibility = \"Mo_210\""
   ]
  },
  {
   "cell_type": "code",
   "execution_count": 28,
   "id": "243a6981",
   "metadata": {},
   "outputs": [],
   "source": [
    "import matplotlib"
   ]
  },
  {
   "cell_type": "code",
   "execution_count": 57,
   "id": "93563bf1",
   "metadata": {
    "scrolled": false
   },
   "outputs": [
    {
     "data": {
      "image/png": "[encoded data removed]",
      "text/plain": [
       "<Figure size 432x288 with 1 Axes>"
      ]
     },
     "metadata": {
      "needs_background": "light"
     },
     "output_type": "display_data"
    }
   ],
   "source": [
    "fig = plt.figure()\n",
    "ax = fig.add_subplot(1,1,1)\n",
    "edges = range(round(energy.min()),round(energy.max()),1)\n",
    "n, bins, patches = ax.hist(energy, bins=edges,density=True)\n",
    "most_stable_ratio = (n[0]+n[1])/n.sum()*100\n",
    "#ax.set_yticks(np.arange(0, 21, step=10))\n",
    "ax.yaxis.set_major_formatter(matplotlib.ticker.PercentFormatter(1.0))\n",
    "ax.set_title(f\"{most_stable_ratio} %, {bins[0]}\")\n",
    "ax.set_xlabel('gbenergy [mJ/$m^2$]')\n",
    "ax.set_ylabel(\"accessilibity\")\n",
    "fig.savefig(f\"{pic_name}_accessibility.jpeg\")"
   ]
  },
  {
   "cell_type": "code",
   "execution_count": 36,
   "id": "643c6ed6",
   "metadata": {},
   "outputs": [
    {
     "data": {
      "text/plain": [
       "1737"
      ]
     },
     "execution_count": 36,
     "metadata": {},
     "output_type": "execute_result"
    }
   ],
   "source": [
    "bins[0]"
   ]
  },
  {
   "cell_type": "code",
   "execution_count": null,
   "id": "acdfaac1",
   "metadata": {},
   "outputs": [],
   "source": []
  },
  {
   "cell_type": "code",
   "execution_count": null,
   "id": "47df8b05",
   "metadata": {},
   "outputs": [],
   "source": []
  },
  {
   "cell_type": "code",
   "execution_count": null,
   "id": "788ffbd1",
   "metadata": {},
   "outputs": [],
   "source": []
  },
  {
   "cell_type": "code",
   "execution_count": null,
   "id": "6bc1f2ec",
   "metadata": {},
   "outputs": [],
   "source": []
  },
  {
   "cell_type": "code",
   "execution_count": null,
   "id": "2602dfa8",
   "metadata": {},
   "outputs": [],
   "source": []
  },
  {
   "cell_type": "code",
   "execution_count": null,
   "id": "3572d7a0",
   "metadata": {},
   "outputs": [],
   "source": []
  },
  {
   "cell_type": "code",
   "execution_count": null,
   "id": "178947a8",
   "metadata": {},
   "outputs": [],
   "source": []
  }
 ],
 "metadata": {
  "kernelspec": {
   "display_name": "Python 3 (ipykernel)",
   "language": "python",
   "name": "python3"
  },
  "language_info": {
   "codemirror_mode": {
    "name": "ipython",
    "version": 3
   },
   "file_extension": ".py",
   "mimetype": "text/x-python",
   "name": "python",
   "nbconvert_exporter": "python",
   "pygments_lexer": "ipython3",
   "version": "3.8.3"
  }
 },
 "nbformat": 4,
 "nbformat_minor": 5
}
