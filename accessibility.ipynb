{
 "cells": [
  {
   "cell_type": "code",
   "execution_count": 2,
   "id": "8e3d3914",
   "metadata": {},
   "outputs": [],
   "source": [
    "import numpy as np\n",
    "import os\n",
    "import glob\n",
    "import shutil\n",
    "import math\n",
    "import matplotlib.pyplot as plt"
   ]
  },
  {
   "cell_type": "code",
   "execution_count": 3,
   "id": "8981da82",
   "metadata": {},
   "outputs": [],
   "source": [
    "dirname = \"8_1_1_gb\""
   ]
  },
  {
   "cell_type": "code",
   "execution_count": 4,
   "id": "51319c03",
   "metadata": {},
   "outputs": [],
   "source": [
    "dy = np.loadtxt(f\"{dirname}/results\")[:,3]\n",
    "dz = np.loadtxt(f\"{dirname}/results\")[:,4]\n",
    "energy = np.loadtxt(f\"{dirname}/results\")[:,5]"
   ]
  },
  {
   "cell_type": "code",
   "execution_count": null,
   "id": "5f0bb083",
   "metadata": {},
   "outputs": [],
   "source": [
    "plt.figure(figsize = (max(dy) - min(dy),max(dz) - min(dz)))\n",
    "pcm = plt.scatter(dy,dz, c = energy,cmap = 'hot',s=100)\n",
    "plt.colorbar(pcm,cmap = 'hot')\n",
    "# plt.scatter(dy[energy.argmin()],dz[energy.argmin()],s=200,c=\"green\")\n",
    "plt.ylabel('dz',fontsize = 20)\n",
    "plt.xlabel('dy',fontsize = 20)\n",
    "# plt.savefig(\"811.jpeg\")"
   ]
  },
  {
   "cell_type": "code",
   "execution_count": 9,
   "id": "8e4caae0",
   "metadata": {},
   "outputs": [],
   "source": [
    "pic_name = \"histogram\""
   ]
  },
  {
   "cell_type": "code",
   "execution_count": 10,
   "id": "6c244aee",
   "metadata": {},
   "outputs": [
    {
     "data": {
      "image/png": "[encoded data removed]",
      "text/plain": [
       "<Figure size 432x288 with 1 Axes>"
      ]
     },
     "metadata": {
      "needs_background": "light"
     },
     "output_type": "display_data"
    }
   ],
   "source": [
    "fig = plt.figure()\n",
    "ax = fig.add_subplot(1,1,1)\n",
    "edges = range(round(energy.min())-1,round(energy.max())+1,2)\n",
    "n, bins, patches = ax.hist(energy, bins=edges)\n",
    "most_stable_ratio = n[0]/n.sum()*100\n",
    "ax.set_title(f\"{most_stable_ratio} %\")\n",
    "ax.set_xlabel(\"num\")\n",
    "ax.set_ylabel('gbenergy [mJ/$m^2$]')\n",
    "fig.savefig(f\"{pic_name}.jpeg\")"
   ]
  },
  {
   "cell_type": "code",
   "execution_count": null,
   "id": "967dfc81",
   "metadata": {},
   "outputs": [],
   "source": []
  }
 ],
 "metadata": {
  "kernelspec": {
   "display_name": "Python 3 (ipykernel)",
   "language": "python",
   "name": "python3"
  },
  "language_info": {
   "codemirror_mode": {
    "name": "ipython",
    "version": 3
   },
   "file_extension": ".py",
   "mimetype": "text/x-python",
   "name": "python",
   "nbconvert_exporter": "python",
   "pygments_lexer": "ipython3",
   "version": "3.8.3"
  }
 },
 "nbformat": 4,
 "nbformat_minor": 5
}
